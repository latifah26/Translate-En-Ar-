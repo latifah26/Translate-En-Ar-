{
  "nbformat": 4,
  "nbformat_minor": 0,
  "metadata": {
    "colab": {
      "provenance": [],
      "machine_shape": "hm",
      "gpuType": "V28"
    },
    "kernelspec": {
      "name": "python3",
      "display_name": "Python 3"
    },
    "language_info": {
      "name": "python"
    },
    "accelerator": "TPU"
  },
  "cells": [
    {
      "cell_type": "markdown",
      "source": [
        "\n",
        "\n",
        "**Dataset and Preprocessing**"
      ],
      "metadata": {
        "id": "MDhSYdaQNBfd"
      }
    },
    {
      "cell_type": "code",
      "execution_count": null,
      "metadata": {
        "id": "-2Daf38GYDE9"
      },
      "outputs": [],
      "source": [
        "import torch\n",
        "from torch.utils.data import Dataset, DataLoader, random_split\n",
        "\n",
        "class TranslationDataset(Dataset):\n",
        "    def __init__(self, file_path, max_len=10):\n",
        "        self.pairs = []\n",
        "        with open(file_path, 'r', encoding='utf-8') as f:\n",
        "            for line in f:\n",
        "                parts = line.strip().split('\\t')\n",
        "                if len(parts) >= 2:\n",
        "                    self.pairs.append((parts[0], parts[1]))\n",
        "        self.max_len = max_len\n",
        "        self.en_vocab, self.ar_vocab = self.build_vocab()\n",
        "\n",
        "    def build_vocab(self):\n",
        "        en_vocab = {'<pad>': 0, '<sos>': 1, '<eos>': 2, '<unk>': 3}\n",
        "        ar_vocab = {'<pad>': 0, '<sos>': 1, '<eos>': 2, '<unk>': 3}\n",
        "        for en, ar in self.pairs:\n",
        "            for word in en.split():\n",
        "                if word not in en_vocab:\n",
        "                    en_vocab[word] = len(en_vocab)\n",
        "            for word in ar.split():\n",
        "                if word not in ar_vocab:\n",
        "                    ar_vocab[word] = len(ar_vocab)\n",
        "        return en_vocab, ar_vocab\n",
        "\n",
        "    def __len__(self):\n",
        "        return len(self.pairs)\n",
        "\n",
        "    def __getitem__(self, idx):\n",
        "        en, ar = self.pairs[idx]\n",
        "        en_seq = [self.en_vocab.get(word, 3) for word in en.split()] + [2]\n",
        "        ar_seq = [1] + [self.ar_vocab.get(word, 3) for word in ar.split()] + [2]\n",
        "        en_seq = en_seq[:self.max_len] + [0] * (self.max_len - len(en_seq))\n",
        "        ar_seq = ar_seq[:self.max_len] + [0] * (self.max_len - len(ar_seq))\n",
        "        return torch.tensor(en_seq), torch.tensor(ar_seq)\n",
        "\n",
        "# Example usage\n",
        "dataset = TranslationDataset('ara.txt')\n",
        "train_size = int(0.8 * len(dataset))\n",
        "val_size = int(0.1 * len(dataset))\n",
        "test_size = len(dataset) - train_size - val_size\n",
        "train_data, val_data, test_data = random_split(dataset, [train_size, val_size, test_size])\n",
        "train_loader = DataLoader(train_data, batch_size=32, shuffle=True)\n",
        "val_loader = DataLoader(val_data, batch_size=32)\n",
        "test_loader = DataLoader(test_data, batch_size=32)"
      ]
    },
    {
      "cell_type": "markdown",
      "source": [
        "**Define Models**"
      ],
      "metadata": {
        "id": "6__-YSyhNNQf"
      }
    },
    {
      "cell_type": "code",
      "source": [
        "import torch.nn as nn\n",
        "\n",
        "class EncoderRNN(nn.Module):\n",
        "    def __init__(self, input_size, emb_size, hidden_size):\n",
        "        super().__init__()\n",
        "        self.embedding = nn.Embedding(input_size, emb_size)\n",
        "        self.rnn = nn.RNN(emb_size, hidden_size, batch_first=True)\n",
        "\n",
        "    def forward(self, x):\n",
        "        embedded = self.embedding(x)\n",
        "        outputs, hidden = self.rnn(embedded)\n",
        "        return outputs, hidden\n",
        "\n",
        "class DecoderRNN(nn.Module):\n",
        "    def __init__(self, output_size, emb_size, hidden_size):\n",
        "        super().__init__()\n",
        "        self.embedding = nn.Embedding(output_size, emb_size)\n",
        "        self.rnn = nn.RNN(emb_size, hidden_size, batch_first=True)\n",
        "        self.fc = nn.Linear(hidden_size, output_size)\n",
        "\n",
        "    def forward(self, x, hidden):\n",
        "        embedded = self.embedding(x)\n",
        "        outputs, hidden = self.rnn(embedded, hidden)\n",
        "        predictions = self.fc(outputs)\n",
        "        return predictions, hidden\n",
        "\n",
        "class Seq2SeqRNN(nn.Module):\n",
        "    def __init__(self, encoder, decoder):\n",
        "        super().__init__()\n",
        "        self.encoder = encoder\n",
        "        self.decoder = decoder\n",
        "\n",
        "    def forward(self, src, trg, teacher_forcing_ratio=0.5):\n",
        "        batch_size, trg_len = src.shape[0], trg.shape[1]\n",
        "        trg_vocab_size = self.decoder.fc.out_features\n",
        "        outputs = torch.zeros(batch_size, trg_len, trg_vocab_size).to(src.device)\n",
        "        _, hidden = self.encoder(src)\n",
        "        input = trg[:, 0]\n",
        "        for t in range(1, trg_len):\n",
        "            output, hidden = self.decoder(input.unsqueeze(1), hidden)\n",
        "            outputs[:, t] = output.squeeze(1)\n",
        "            teacher_force = random.random() < teacher_forcing_ratio\n",
        "            input = trg[:, t] if teacher_force else output.argmax(2).squeeze(1)\n",
        "        return outputs"
      ],
      "metadata": {
        "id": "WTkwlbPRYKDc"
      },
      "execution_count": null,
      "outputs": []
    },
    {
      "cell_type": "code",
      "source": [
        "class EncoderLSTM(nn.Module):\n",
        "    def __init__(self, input_size, emb_size, hidden_size):\n",
        "        super().__init__()\n",
        "        self.embedding = nn.Embedding(input_size, emb_size)\n",
        "        self.lstm = nn.LSTM(emb_size, hidden_size, batch_first=True)\n",
        "\n",
        "    def forward(self, x):\n",
        "        embedded = self.embedding(x)\n",
        "        outputs, (hidden, cell) = self.lstm(embedded)\n",
        "        return outputs, (hidden, cell)\n",
        "\n",
        "class DecoderLSTM(nn.Module):\n",
        "    def __init__(self, output_size, emb_size, hidden_size):\n",
        "        super().__init__()\n",
        "        self.embedding = nn.Embedding(output_size, emb_size)\n",
        "        self.lstm = nn.LSTM(emb_size, hidden_size, batch_first=True)\n",
        "        self.fc = nn.Linear(hidden_size, output_size)\n",
        "\n",
        "    def forward(self, x, hidden_cell):\n",
        "        embedded = self.embedding(x)\n",
        "        outputs, (hidden, cell) = self.lstm(embedded, hidden_cell)\n",
        "        predictions = self.fc(outputs)\n",
        "        return predictions, (hidden, cell)\n",
        "\n",
        "class Seq2SeqLSTM(nn.Module):\n",
        "    def __init__(self, encoder, decoder):\n",
        "        super().__init__()\n",
        "        self.encoder = encoder\n",
        "        self.decoder = decoder\n",
        "\n",
        "    def forward(self, src, trg, teacher_forcing_ratio=0.5):\n",
        "        batch_size, trg_len = src.shape[0], trg.shape[1]\n",
        "        trg_vocab_size = self.decoder.fc.out_features\n",
        "        outputs = torch.zeros(batch_size, trg_len, trg_vocab_size).to(src.device)\n",
        "        _, (hidden, cell) = self.encoder(src)\n",
        "        input = trg[:, 0]\n",
        "        for t in range(1, trg_len):\n",
        "            output, (hidden, cell) = self.decoder(input.unsqueeze(1), (hidden, cell))\n",
        "            outputs[:, t] = output.squeeze(1)\n",
        "            teacher_force = random.random() < teacher_forcing_ratio\n",
        "            input = trg[:, t] if teacher_force else output.argmax(2).squeeze(1)\n",
        "        return outputs"
      ],
      "metadata": {
        "id": "ZQTf_CsdYZvQ"
      },
      "execution_count": null,
      "outputs": []
    },
    {
      "cell_type": "code",
      "source": [
        "class EncoderBiLSTM(nn.Module):\n",
        "    def __init__(self, input_size, emb_size, hidden_size):\n",
        "        super().__init__()\n",
        "        self.embedding = nn.Embedding(input_size, emb_size)\n",
        "        self.lstm = nn.LSTM(emb_size, hidden_size, batch_first=True, bidirectional=True)\n",
        "        self.fc = nn.Linear(hidden_size * 2, hidden_size)  # Project concatenated states\n",
        "\n",
        "    def forward(self, x):\n",
        "        embedded = self.embedding(x)\n",
        "        outputs, (hidden, cell) = self.lstm(embedded)\n",
        "        hidden = self.fc(torch.cat((hidden[0], hidden[1]), dim=1)).unsqueeze(0)\n",
        "        cell = self.fc(torch.cat((cell[0], cell[1]), dim=1)).unsqueeze(0)\n",
        "        return outputs, (hidden, cell)\n",
        "\n",
        "class Seq2SeqBiLSTM(nn.Module):\n",
        "    def __init__(self, encoder, decoder):\n",
        "        super().__init__()\n",
        "        self.encoder = encoder\n",
        "        self.decoder = decoder\n",
        "\n",
        "    def forward(self, src, trg, teacher_forcing_ratio=0.5):\n",
        "        batch_size, trg_len = src.shape[0], trg.shape[1]\n",
        "        trg_vocab_size = self.decoder.fc.out_features\n",
        "        outputs = torch.zeros(batch_size, trg_len, trg_vocab_size).to(src.device)\n",
        "        _, (hidden, cell) = self.encoder(src)\n",
        "        input = trg[:, 0]\n",
        "        for t in range(1, trg_len):\n",
        "            output, (hidden, cell) = self.decoder(input.unsqueeze(1), (hidden, cell))\n",
        "            outputs[:, t] = output.squeeze(1)\n",
        "            teacher_force = random.random() < teacher_forcing_ratio\n",
        "            input = trg[:, t] if teacher_force else output.argmax(2).squeeze(1)\n",
        "        return outputs"
      ],
      "metadata": {
        "id": "AJjcAZZ4YfCZ"
      },
      "execution_count": null,
      "outputs": []
    },
    {
      "cell_type": "code",
      "source": [
        "class Attention(nn.Module):\n",
        "    def __init__(self, hidden_size):\n",
        "        super().__init__()\n",
        "        self.attn = nn.Linear(hidden_size * 2, hidden_size)\n",
        "        self.v = nn.Parameter(torch.rand(hidden_size)) # v should have the shape (hidden_size)\n",
        "\n",
        "    def forward(self, hidden, encoder_outputs):\n",
        "        batch_size, seq_len = encoder_outputs.shape[0], encoder_outputs.shape[1]\n",
        "        hidden = hidden.repeat(seq_len, 1, 1).transpose(0, 1)  # hidden shape (batch_size, seq_len, hidden_size)\n",
        "        energy = torch.tanh(self.attn(torch.cat((hidden, encoder_outputs), dim=2))) # energy shape (batch_size, seq_len, hidden_size)\n",
        "        # Change: use bmm for batched matrix multiplication and correct the shapes for self.v and energy\n",
        "        attention = torch.softmax(torch.bmm(self.v.unsqueeze(0).unsqueeze(1).repeat(batch_size, 1, 1), energy.transpose(1, 2)), dim=2)\n",
        "        context = torch.bmm(attention, encoder_outputs)  # Using batch matrix multiplication\n",
        "        return context\n",
        "\n",
        "\n",
        "\n",
        "\n",
        "class DecoderLSTMAttention(nn.Module):\n",
        "    def __init__(self, output_size, emb_size, hidden_size):\n",
        "        super().__init__()\n",
        "        self.embedding = nn.Embedding(output_size, emb_size)\n",
        "        self.lstm = nn.LSTM(emb_size + hidden_size, hidden_size, batch_first=True)\n",
        "        self.fc = nn.Linear(hidden_size, output_size)\n",
        "        self.attention = Attention(hidden_size)\n",
        "\n",
        "    def forward(self, x, hidden_cell, encoder_outputs):\n",
        "        # x: (batch_size, seq_len), e.g., (1, 1) during inference\n",
        "        embedded = self.embedding(x)  # (batch_size, seq_len, emb_size)\n",
        "        context = self.attention(hidden_cell[0], encoder_outputs)  # (batch_size, seq_len, hidden_size)\n",
        "        lstm_input = torch.cat((embedded, context), dim=2)  # (batch_size, seq_len, emb_size + hidden_size)\n",
        "        outputs, (hidden, cell) = self.lstm(lstm_input, hidden_cell)  # outputs: (batch_size, seq_len, hidden_size)\n",
        "        predictions = self.fc(outputs)  # (batch_size, seq_len, output_size)\n",
        "        return predictions, (hidden, cell)\n",
        "\n",
        "class Seq2SeqLSTMAttention(nn.Module):\n",
        "    def __init__(self, encoder, decoder):\n",
        "        super().__init__()\n",
        "        self.encoder = encoder\n",
        "        self.decoder = decoder\n",
        "\n",
        "    def forward(self, src, trg, teacher_forcing_ratio=0.5):\n",
        "        batch_size, trg_len = src.shape[0], trg.shape[1]\n",
        "        trg_vocab_size = self.decoder.fc.out_features\n",
        "        outputs = torch.zeros(batch_size, trg_len, trg_vocab_size).to(src.device)\n",
        "        encoder_outputs, (hidden, cell) = self.encoder(src)\n",
        "        input = trg[:, 0]\n",
        "        for t in range(1, trg_len):\n",
        "            output, (hidden, cell) = self.decoder(input.unsqueeze(1), (hidden, cell), encoder_outputs)\n",
        "            outputs[:, t] = output.squeeze(1)\n",
        "            teacher_force = random.random() < teacher_forcing_ratio\n",
        "            input = trg[:, t] if teacher_force else output.argmax(2).squeeze(1)\n",
        "        return outputs"
      ],
      "metadata": {
        "id": "Z68YTYk_YiEW"
      },
      "execution_count": null,
      "outputs": []
    },
    {
      "cell_type": "markdown",
      "source": [
        "**Split training and testing dataset**"
      ],
      "metadata": {
        "id": "J7qz5dnWNY7x"
      }
    },
    {
      "cell_type": "code",
      "source": [
        "import torch.optim as optim\n",
        "import random\n",
        "\n",
        "device = torch.device('cuda' if torch.cuda.is_available() else 'cpu')\n",
        "input_size = len(dataset.en_vocab)\n",
        "output_size = len(dataset.ar_vocab)\n",
        "\n",
        "\n",
        "def train(model, dataloader, optimizer, criterion, device):\n",
        "    model.train()\n",
        "    epoch_loss = 0\n",
        "    for src, trg in dataloader:\n",
        "        src, trg = src.to(device), trg.to(device)\n",
        "        optimizer.zero_grad()\n",
        "        output = model(src, trg)\n",
        "        output = output[:, 1:].reshape(-1, output.shape[-1])\n",
        "        trg = trg[:, 1:].reshape(-1)\n",
        "        loss = criterion(output, trg)\n",
        "        loss.backward()\n",
        "        optimizer.step()\n",
        "        epoch_loss += loss.item()\n",
        "    return epoch_loss / len(dataloader)\n",
        "\n",
        "def validate(model, dataloader, criterion, device):\n",
        "    model.eval()\n",
        "    epoch_loss = 0\n",
        "    with torch.no_grad():\n",
        "        for src, trg in dataloader:\n",
        "            src, trg = src.to(device), trg.to(device)\n",
        "            output = model(src, trg, teacher_forcing_ratio=0.0)  # No teacher forcing during validation\n",
        "            output = output[:, 1:].reshape(-1, output.shape[-1])\n",
        "            trg = trg[:, 1:].reshape(-1)\n",
        "            loss = criterion(output, trg)\n",
        "            epoch_loss += loss.item()\n",
        "    return epoch_loss / len(dataloader)\n",
        "\n",
        "# Common criterion\n",
        "criterion = nn.CrossEntropyLoss(ignore_index=0)\n",
        "\n",
        "\n",
        "\n",
        "\n",
        "\n"
      ],
      "metadata": {
        "id": "X6VGHskJYlLS"
      },
      "execution_count": null,
      "outputs": []
    },
    {
      "cell_type": "markdown",
      "source": [
        "**Training Models**"
      ],
      "metadata": {
        "id": "fB7Xt36qNfP5"
      }
    },
    {
      "cell_type": "code",
      "source": [
        "# 1. Standard RNN\n",
        "print(\"Training Standard RNN...\")\n",
        "rnn_enc = EncoderRNN(input_size, 256, 512).to(device)\n",
        "rnn_dec = DecoderRNN(output_size, 256, 512).to(device)\n",
        "rnn_model = Seq2SeqRNN(rnn_enc, rnn_dec).to(device)\n",
        "rnn_optimizer = optim.Adam(rnn_model.parameters())\n",
        "\n",
        "for epoch in range(10):\n",
        "    train_loss = train(rnn_model, train_loader, rnn_optimizer, criterion, device)\n",
        "    val_loss = validate(rnn_model, val_loader, criterion, device)\n",
        "    print(f'RNN Epoch {epoch+1}, Train Loss: {train_loss:.4f}, Val Loss: {val_loss:.4f}')"
      ],
      "metadata": {
        "colab": {
          "base_uri": "https://localhost:8080/"
        },
        "id": "__Nrtrntg_o8",
        "outputId": "75506547-b819-44d4-afcb-9dc6f5bfe535"
      },
      "execution_count": null,
      "outputs": [
        {
          "output_type": "stream",
          "name": "stdout",
          "text": [
            "Training Standard RNN...\n",
            "RNN Epoch 1, Train Loss: 7.3946, Val Loss: 7.3089\n",
            "RNN Epoch 2, Train Loss: 6.5924, Val Loss: 7.4902\n",
            "RNN Epoch 3, Train Loss: 6.1752, Val Loss: 7.5112\n",
            "RNN Epoch 4, Train Loss: 5.8102, Val Loss: 7.7282\n",
            "RNN Epoch 5, Train Loss: 5.5195, Val Loss: 7.8874\n",
            "RNN Epoch 6, Train Loss: 5.2233, Val Loss: 7.9476\n",
            "RNN Epoch 7, Train Loss: 5.0458, Val Loss: 8.2031\n",
            "RNN Epoch 8, Train Loss: 4.9153, Val Loss: 8.2223\n",
            "RNN Epoch 9, Train Loss: 4.6921, Val Loss: 8.3944\n",
            "RNN Epoch 10, Train Loss: 4.5380, Val Loss: 8.5093\n"
          ]
        }
      ]
    },
    {
      "cell_type": "code",
      "source": [
        "# 2. LSTM\n",
        "print(\"\\nTraining LSTM...\")\n",
        "lstm_enc = EncoderLSTM(input_size, 256, 512).to(device)\n",
        "lstm_dec = DecoderLSTM(output_size, 256, 512).to(device)\n",
        "lstm_model = Seq2SeqLSTM(lstm_enc, lstm_dec).to(device)\n",
        "lstm_optimizer = optim.Adam(lstm_model.parameters())\n",
        "\n",
        "for epoch in range(10):\n",
        "    train_loss = train(lstm_model, train_loader, lstm_optimizer, criterion, device)\n",
        "    val_loss = validate(lstm_model, val_loader, criterion, device)\n",
        "    print(f'LSTM Epoch {epoch+1}, Train Loss: {train_loss:.4f}, Val Loss: {val_loss:.4f}')"
      ],
      "metadata": {
        "colab": {
          "base_uri": "https://localhost:8080/"
        },
        "id": "DA1-PI5pgNDw",
        "outputId": "13341164-061a-453e-eb4b-da063cf35343"
      },
      "execution_count": null,
      "outputs": [
        {
          "output_type": "stream",
          "name": "stdout",
          "text": [
            "\n",
            "Training LSTM...\n",
            "LSTM Epoch 1, Train Loss: 7.0669, Val Loss: 6.7462\n",
            "LSTM Epoch 2, Train Loss: 6.0641, Val Loss: 6.5356\n",
            "LSTM Epoch 3, Train Loss: 5.2958, Val Loss: 6.4576\n",
            "LSTM Epoch 4, Train Loss: 4.4435, Val Loss: 6.4005\n",
            "LSTM Epoch 5, Train Loss: 3.5653, Val Loss: 6.5168\n",
            "LSTM Epoch 6, Train Loss: 2.6816, Val Loss: 6.5489\n",
            "LSTM Epoch 7, Train Loss: 1.9031, Val Loss: 6.7017\n",
            "LSTM Epoch 8, Train Loss: 1.2797, Val Loss: 6.8456\n",
            "LSTM Epoch 9, Train Loss: 0.8720, Val Loss: 6.9462\n",
            "LSTM Epoch 10, Train Loss: 0.6036, Val Loss: 7.1053\n"
          ]
        }
      ]
    },
    {
      "cell_type": "code",
      "source": [
        "# 3. Bidirectional LSTM\n",
        "print(\"\\nTraining Bidirectional LSTM...\")\n",
        "bilstm_enc = EncoderBiLSTM(input_size, 256, 512).to(device)\n",
        "bilstm_dec = DecoderLSTM(output_size, 256, 512).to(device)  # Reusing LSTM decoder\n",
        "bilstm_model = Seq2SeqBiLSTM(bilstm_enc, bilstm_dec).to(device)\n",
        "bilstm_optimizer = optim.Adam(bilstm_model.parameters())\n",
        "\n",
        "for epoch in range(10):\n",
        "    train_loss = train(bilstm_model, train_loader, bilstm_optimizer, criterion, device)\n",
        "    val_loss = validate(bilstm_model, val_loader, criterion, device)\n",
        "    print(f'BiLSTM Epoch {epoch+1}, Train Loss: {train_loss:.4f}, Val Loss: {val_loss:.4f}')\n"
      ],
      "metadata": {
        "colab": {
          "base_uri": "https://localhost:8080/"
        },
        "id": "YpOOaq7thCrL",
        "outputId": "fef64eb2-5ea8-4054-e8db-6854bc968e4b"
      },
      "execution_count": null,
      "outputs": [
        {
          "output_type": "stream",
          "name": "stdout",
          "text": [
            "\n",
            "Training Bidirectional LSTM...\n",
            "BiLSTM Epoch 1, Train Loss: 7.0664, Val Loss: 6.7307\n",
            "BiLSTM Epoch 2, Train Loss: 6.1055, Val Loss: 6.6455\n",
            "BiLSTM Epoch 3, Train Loss: 5.4527, Val Loss: 6.5284\n",
            "BiLSTM Epoch 4, Train Loss: 4.7510, Val Loss: 6.5453\n",
            "BiLSTM Epoch 5, Train Loss: 3.9975, Val Loss: 6.5920\n",
            "BiLSTM Epoch 6, Train Loss: 3.2760, Val Loss: 6.6533\n",
            "BiLSTM Epoch 7, Train Loss: 2.5734, Val Loss: 6.8298\n",
            "BiLSTM Epoch 8, Train Loss: 1.9083, Val Loss: 6.9831\n",
            "BiLSTM Epoch 9, Train Loss: 1.3704, Val Loss: 7.0768\n",
            "BiLSTM Epoch 10, Train Loss: 0.9683, Val Loss: 7.2424\n"
          ]
        }
      ]
    },
    {
      "cell_type": "code",
      "source": [
        "\n",
        "# 4. LSTM with Attention\n",
        "print(\"\\nTraining LSTM with Attention...\")\n",
        "attn_enc = EncoderLSTM(input_size, 256, 512).to(device)  # Reusing LSTM encoder\n",
        "attn_dec = DecoderLSTMAttention(output_size, 256, 512).to(device)\n",
        "attn_model = Seq2SeqLSTMAttention(attn_enc, attn_dec).to(device)\n",
        "attn_optimizer = optim.Adam(attn_model.parameters())\n",
        "\n",
        "for epoch in range(10):\n",
        "    train_loss = train(attn_model, train_loader, attn_optimizer, criterion, device)\n",
        "    val_loss = validate(attn_model, val_loader, criterion, device)\n",
        "    print(f'Attention LSTM Epoch {epoch+1}, Train Loss: {train_loss:.4f}, Val Loss: {val_loss:.4f}')"
      ],
      "metadata": {
        "colab": {
          "base_uri": "https://localhost:8080/"
        },
        "id": "CcN_ImLrhE8l",
        "outputId": "8a7ee488-8510-4a04-9f43-9cb5dac1efaf"
      },
      "execution_count": null,
      "outputs": [
        {
          "output_type": "stream",
          "name": "stdout",
          "text": [
            "\n",
            "Training LSTM with Attention...\n",
            "Attention LSTM Epoch 1, Train Loss: 7.0173, Val Loss: 6.7063\n",
            "Attention LSTM Epoch 2, Train Loss: 6.1511, Val Loss: 6.5931\n",
            "Attention LSTM Epoch 3, Train Loss: 5.4791, Val Loss: 6.4618\n",
            "Attention LSTM Epoch 4, Train Loss: 4.6974, Val Loss: 6.3684\n",
            "Attention LSTM Epoch 5, Train Loss: 3.8590, Val Loss: 6.4188\n",
            "Attention LSTM Epoch 6, Train Loss: 2.9781, Val Loss: 6.4418\n",
            "Attention LSTM Epoch 7, Train Loss: 2.1356, Val Loss: 6.5658\n",
            "Attention LSTM Epoch 8, Train Loss: 1.4548, Val Loss: 6.7293\n",
            "Attention LSTM Epoch 9, Train Loss: 0.9836, Val Loss: 6.8560\n",
            "Attention LSTM Epoch 10, Train Loss: 0.6725, Val Loss: 6.9663\n"
          ]
        }
      ]
    },
    {
      "cell_type": "markdown",
      "source": [
        "**Evaluation Models**"
      ],
      "metadata": {
        "id": "VgiiwI6nNmuk"
      }
    },
    {
      "cell_type": "code",
      "source": [
        "from nltk.translate.bleu_score import corpus_bleu\n",
        "import torch\n",
        "import matplotlib.pyplot as plt\n",
        "\n",
        "\n",
        "# Initialize dataset to get en_vocab and ar_vocab\n",
        "dataset = TranslationDataset('ara.txt', max_len=10)\n",
        "en_vocab = dataset.en_vocab\n",
        "ar_vocab = dataset.ar_vocab\n",
        "\n",
        "\n",
        "def translate_sentence(model, sentence, en_vocab, ar_vocab, device, max_len=10):\n",
        "    model.eval()\n",
        "    tokens = [en_vocab.get(word, en_vocab.get('<unk>', 3)) for word in sentence.split()] + [en_vocab['<eos>']]\n",
        "    src = torch.tensor([tokens + [en_vocab['<pad>']] * (max_len - len(tokens))], device=device)\n",
        "\n",
        "    with torch.no_grad():\n",
        "        encoder_outputs, hidden = model.encoder(src)\n",
        "        if not isinstance(hidden, tuple):\n",
        "            hidden_state = hidden  # RNN\n",
        "        else:\n",
        "            hidden_state = hidden  # LSTM or Attention (hidden, cell)\n",
        "\n",
        "        trg_indexes = [ar_vocab['<sos>']]\n",
        "        for _ in range(max_len):\n",
        "            trg_tensor = torch.tensor([trg_indexes[-1]], device=device).unsqueeze(0)  # Shape: (1, 1)\n",
        "\n",
        "            if hasattr(model.decoder, 'attention'):\n",
        "                output, hidden_state = model.decoder(trg_tensor, hidden_state, encoder_outputs)\n",
        "            elif isinstance(hidden_state, tuple):\n",
        "                output, hidden_state = model.decoder(trg_tensor, hidden_state)\n",
        "            else:\n",
        "                output, hidden_state = model.decoder(trg_tensor, hidden_state)\n",
        "\n",
        "            # Ensure output is 3D: (batch_size, seq_len, vocab_size)\n",
        "            if output.dim() == 2:\n",
        "                output = output.unsqueeze(1)  # Convert (1, vocab_size) to (1, 1, vocab_size)\n",
        "            pred_token = output.argmax(2).item()\n",
        "\n",
        "            trg_indexes.append(pred_token)\n",
        "            if pred_token == ar_vocab['<eos>']:\n",
        "                break\n",
        "\n",
        "    return [list(ar_vocab.keys())[list(ar_vocab.values()).index(idx)] for idx in trg_indexes[1:-1]]\n",
        "\n",
        "def compute_bleu(model, test_data, en_vocab, ar_vocab, device, max_len=10):\n",
        "    references = [[pair[1].split()] for pair in test_data.dataset.pairs]\n",
        "    hypotheses = []\n",
        "    for pair in test_data.dataset.pairs:\n",
        "        hyp = translate_sentence(model, pair[0], en_vocab, ar_vocab, device, max_len)\n",
        "        hypotheses.append(hyp)\n",
        "    return corpus_bleu(references, hypotheses)\n",
        "\n",
        "def compute_bleu_by_length(model, test_data, en_vocab, ar_vocab, device, max_len=10):\n",
        "    bins = {'short': ([], []), 'medium': ([], []), 'long': ([], [])}\n",
        "    for pair in test_data.dataset.pairs:\n",
        "        src_len = len(pair[0].split())\n",
        "        ref = [pair[1].split()]\n",
        "        hyp = translate_sentence(model, pair[0], en_vocab, ar_vocab, device, max_len)\n",
        "        if src_len <= 5:\n",
        "            bins['short'][0].append(ref)\n",
        "            bins['short'][1].append(hyp)\n",
        "        elif src_len <= 10:\n",
        "            bins['medium'][0].append(ref)\n",
        "            bins['medium'][1].append(hyp)\n",
        "        else:\n",
        "            bins['long'][0].append(ref)\n",
        "            bins['long'][1].append(hyp)\n",
        "    bleu_scores = {}\n",
        "    for bin_name, (refs, hyps) in bins.items():\n",
        "        bleu_scores[bin_name] = corpus_bleu(refs, hyps) if refs else 0.0\n",
        "    return bleu_scores\n",
        "\n",
        "# Evaluate all models\n",
        "device = torch.device('cuda' if torch.cuda.is_available() else 'cpu')\n",
        "models = {\n",
        "    'RNN': rnn_model,\n",
        "    'LSTM': lstm_model,\n",
        "    'BiLSTM': bilstm_model,\n",
        "    'Attention': attn_model\n",
        "}\n",
        "bleu_scores = {}\n",
        "bleu_by_length = {}\n",
        "\n",
        "for name, model in models.items():\n",
        "    bleu_scores[name] = compute_bleu(model, test_data, en_vocab, ar_vocab, device)\n",
        "    bleu_by_length[name] = compute_bleu_by_length(model, test_data, en_vocab, ar_vocab, device)\n",
        "    print(f'{name} BLEU Score: {bleu_scores[name]:.4f}')\n",
        "\n",
        "# Plot overall BLEU scores\n",
        "plt.figure(figsize=(10, 6))\n",
        "plt.bar(bleu_scores.keys(), bleu_scores.values(), color=['blue', 'green', 'red', 'purple'])\n",
        "plt.xlabel('Model')\n",
        "plt.ylabel('BLEU Score')\n",
        "plt.title('BLEU Score Comparison Across Models')\n",
        "plt.ylim(0, 1)\n",
        "for i, (name, score) in enumerate(bleu_scores.items()):\n",
        "    plt.text(i, score + 0.02, f'{score:.4f}', ha='center', va='bottom')\n",
        "plt.savefig('bleu_comparison.png')\n",
        "plt.show()\n",
        "\n",
        "# Plot BLEU scores by sentence length\n",
        "fig, ax = plt.subplots(figsize=(12, 6))\n",
        "bar_width = 0.2\n",
        "index = range(3)\n",
        "colors = ['blue', 'green', 'red', 'purple']\n",
        "length_bins = ['Short (≤5)', 'Medium (6-10)', 'Long (>10)']\n",
        "\n",
        "for i, (name, scores) in enumerate(bleu_by_length.items()):\n",
        "    bin_scores = [scores['short'], scores['medium'], scores['long']]\n",
        "    plt.bar([x + bar_width * i for x in index], bin_scores, bar_width, label=name, color=colors[i])\n",
        "    for j, score in enumerate(bin_scores):\n",
        "        plt.text(j + bar_width * i, score + 0.02, f'{score:.4f}', ha='center', va='bottom')\n",
        "\n",
        "plt.xlabel('Sentence Length')\n",
        "plt.ylabel('BLEU Score')\n",
        "plt.title('BLEU Score by Sentence Length Across Models')\n",
        "plt.xticks([x + bar_width * 1.5 for x in index], length_bins)\n",
        "plt.legend()\n",
        "plt.ylim(0, 1)\n",
        "plt.savefig('bleu_by_length.png')\n",
        "plt.show()"
      ],
      "metadata": {
        "colab": {
          "base_uri": "https://localhost:8080/",
          "height": 1000
        },
        "id": "LiliJWMKsWIo",
        "outputId": "71f0309d-51c7-4d61-cc28-ca0174b6b251"
      },
      "execution_count": null,
      "outputs": [
        {
          "output_type": "stream",
          "name": "stdout",
          "text": [
            "RNN BLEU Score: 0.0016\n",
            "LSTM BLEU Score: 0.6323\n",
            "BiLSTM BLEU Score: 0.5357\n",
            "Attention BLEU Score: 0.6136\n"
          ]
        },
        {
          "output_type": "display_data",
          "data": {
            "text/plain": [
              "<Figure size 1000x600 with 1 Axes>"
            ],
            "image/png": "[encoded data removed]"
          },
          "metadata": {}
        },
        {
          "output_type": "display_data",
          "data": {
            "text/plain": [
              "<Figure size 1200x600 with 1 Axes>"
            ],
            "image/png": "[encoded data removed]"
          },
          "metadata": {}
        }
      ]
    },
    {
      "cell_type": "code",
      "source": [
        "\n",
        "# Function to evaluate sample quality\n",
        "def evaluate_sample_quality(models, test_data, en_vocab, ar_vocab, device, num_samples=3, max_len=10):\n",
        "    \"\"\"\n",
        "    Evaluate the quality of translations for a few sample sentences.\n",
        "\n",
        "    Args:\n",
        "        models: Dictionary of model names and their corresponding models.\n",
        "        test_data: Test dataset subset.\n",
        "        en_vocab: English vocabulary dictionary.\n",
        "        ar_vocab: Arabic vocabulary dictionary.\n",
        "        device: PyTorch device (e.g., 'cuda' or 'cpu').\n",
        "        num_samples: Number of sentences to evaluate (default: 3).\n",
        "        max_len: Maximum length of the output sequence.\n",
        "\n",
        "    Returns:\n",
        "        None. Prints a table of source, reference, and predicted translations.\n",
        "    \"\"\"\n",
        "    # Select samples: one short, one medium, one long\n",
        "    samples = {'short': None, 'medium': None, 'long': None}\n",
        "    for pair in test_data.dataset.pairs:\n",
        "        src_len = len(pair[0].split())\n",
        "        if src_len <= 5 and samples['short'] is None:\n",
        "            samples['short'] = pair\n",
        "        elif 6 <= src_len <= 10 and samples['medium'] is None:\n",
        "            samples['medium'] = pair\n",
        "        elif src_len > 10 and samples['long'] is None:\n",
        "            samples['long'] = pair\n",
        "        if all(samples.values()):\n",
        "            break\n",
        "\n",
        "    # Print table header\n",
        "    print(\"\\n=== Sample Quality Evaluation ===\")\n",
        "    print(f\"{'Length':<10} {'Source':<20} {'Reference':<20} {'Model':<10} {'Prediction':<20}\")\n",
        "    print(\"=\" * 80)\n",
        "\n",
        "    # Evaluate each sample\n",
        "    for length, (src, ref) in samples.items():\n",
        "        print(f\"{length:<10} {src:<20} {ref:<20} {'-':<10} {'-':<20}\")  # Source and Reference\n",
        "        for name, model in models.items():\n",
        "            pred = translate_sentence(model, src, en_vocab, ar_vocab, device, max_len)\n",
        "            pred_sentence = \" \".join(pred)\n",
        "            print(f\"{'':<10} {'':<20} {'':<20} {name:<10} {pred_sentence:<20}\")\n",
        "        print(\"-\" * 80)\n",
        "\n",
        "\n",
        "\n",
        "# Add sample quality evaluation\n",
        "evaluate_sample_quality(models, test_data, en_vocab, ar_vocab, device, num_samples=3, max_len=10)"
      ],
      "metadata": {
        "id": "xvWNM4YDs9RK",
        "colab": {
          "base_uri": "https://localhost:8080/"
        },
        "outputId": "34f4b4a7-b54d-44b2-d2c0-1e5f85bf46e4"
      },
      "execution_count": null,
      "outputs": [
        {
          "output_type": "stream",
          "name": "stdout",
          "text": [
            "\n",
            "=== Sample Quality Evaluation ===\n",
            "Length     Source               Reference            Model      Prediction          \n",
            "================================================================================\n",
            "short      Hi.                  مرحبًا.              -          -                   \n",
            "                                                     RNN        توم                 \n",
            "                                                     LSTM       مرحبًا.             \n",
            "                                                     BiLSTM     مرحبًا.             \n",
            "                                                     Attention  مرحبًا.             \n",
            "--------------------------------------------------------------------------------\n",
            "medium     He is a man of wit.  هو رجل حكمة.         -          -                   \n",
            "                                                     RNN        ماذا تريد أن تأكل؟  \n",
            "                                                     LSTM       إنه يتحدث من غبار   \n",
            "                                                     BiLSTM     إنه ماهر للامتحان.  \n",
            "                                                     Attention  إنه رسّام كبيرة.    \n",
            "--------------------------------------------------------------------------------\n",
            "long       I may be old, but I can still ride a bike. لربّما كنت كبير السن ولكنني لا زلت أستطيع ركوب الدراجة. -          -                   \n",
            "                                                     RNN        هل توم أن أن أفعل هذا بمتعة كبيرة.\n",
            "                                                     LSTM       كنت أستطيع أن ولكنني لا أستطيع أن عنه.\n",
            "                                                     BiLSTM     أنا شكله لكن لا أستطيع أن أتذكر اسمه.\n",
            "                                                     Attention  لربّما كنت كبير السن ولكنني ولكنني لا أستطيع أستطيع\n",
            "--------------------------------------------------------------------------------\n"
          ]
        }
      ]
    },
    {
      "cell_type": "code",
      "source": [],
      "metadata": {
        "id": "DGdYbmhrrjfd"
      },
      "execution_count": null,
      "outputs": []
    }
  ]
}